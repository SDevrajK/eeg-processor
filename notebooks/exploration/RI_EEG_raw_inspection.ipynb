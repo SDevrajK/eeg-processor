{
 "cells": [
  {
   "metadata": {},
   "cell_type": "markdown",
   "source": [
    "# EEG Processing Exploration\n",
    "# Interactive exploration of EEG processing pipeline stages"
   ],
   "id": "bc40a11aa3650496"
  },
  {
   "metadata": {
    "jupyter": {
     "is_executing": true
    }
   },
   "cell_type": "code",
   "source": [
    "# Initial imports\n",
    "from src.eeg_processor.pipeline import EEGPipeline"
   ],
   "id": "c0f040f2b5b02c78",
   "outputs": [],
   "execution_count": null
  },
  {
   "metadata": {},
   "cell_type": "code",
   "source": [
    "# Initialize processor\n",
    "pipeline = EEGPipeline()"
   ],
   "id": "d4b582cad47a8a7",
   "outputs": [],
   "execution_count": null
  },
  {
   "metadata": {},
   "cell_type": "markdown",
   "source": "## Load Raw Data",
   "id": "25263135e1fe4889"
  },
  {
   "metadata": {},
   "cell_type": "code",
   "source": [
    "# Direct file loading (alternative if participant handler isn't working)\n",
    "raw_data_path = 'C:/Users/sayee/Documents/Research/PythonCode/EEG_Processor/tests/test_data/curry/'\n",
    "participant_file = 'S_001_F.dat'\n",
    "\n",
    "raw = pipeline.load_raw(raw_data_path + participant_file)\n",
    "print(raw.info)\n",
    "raw.plot_sensors(show_names=True)\n"
   ],
   "id": "ffeef1ca68fa0c70",
   "outputs": [],
   "execution_count": null
  },
  {
   "metadata": {},
   "cell_type": "markdown",
   "source": "<span style=\"color:red;\"> # The VEOG and HEOG shouldn't be in the headplot montage, we need to fix this </span>",
   "id": "d9b55c33aab7df9b"
  },
  {
   "metadata": {},
   "cell_type": "code",
   "source": [
    "# Identify EOG and trigger channels (adjust names if needed)\n",
    "eog_channels = [\"HEOG\", \"VEOG\"]  # Replace with your actual EOG channel names\n",
    "trigger_channel = \"Trigger\"         # Replace with your trigger channel name\n",
    "\n",
    "# Set correct channel types\n",
    "raw.set_channel_types({\n",
    "    **{ch: \"eog\" for ch in eog_channels},  # Mark EOGs\n",
    "    trigger_channel: \"stim\"                 # Mark trigger (optional, see Step 3)\n",
    "})\n",
    "raw.plot_sensors(show_names=True)"
   ],
   "id": "9174057943c0433d",
   "outputs": [],
   "execution_count": null
  },
  {
   "metadata": {},
   "cell_type": "markdown",
   "source": "### Plot psd graph for all electrodes",
   "id": "7b72be680bf457bc"
  },
  {
   "metadata": {},
   "cell_type": "code",
   "source": [
    "nyquist = raw.info[\"sfreq\"] / 2\n",
    "raw.compute_psd(fmax=nyquist).plot()"
   ],
   "id": "606992bc5c2a17ed",
   "outputs": [],
   "execution_count": null
  },
  {
   "metadata": {},
   "cell_type": "markdown",
   "source": "### Plot the raw data (decimated for plotting speed)",
   "id": "54895ca758c79b47"
  },
  {
   "metadata": {},
   "cell_type": "code",
   "source": [
    "raw_decimated = raw.copy().resample(sfreq=300)\n",
    "raw_decimated.plot()\n"
   ],
   "id": "545a6a4e9bc8f0c2",
   "outputs": [],
   "execution_count": null
  },
  {
   "metadata": {},
   "cell_type": "markdown",
   "source": "## Processing Pipeline\n",
   "id": "f0b7617de0b294b7"
  },
  {
   "metadata": {},
   "cell_type": "markdown",
   "source": "### Cropping Stage",
   "id": "dfb52de02fbcc473"
  },
  {
   "metadata": {},
   "cell_type": "code",
   "source": [
    "crop_params = {\n",
    "    'crop_after': 30,\n",
    "    'crop_before': 39,\n",
    "}\n",
    "\n",
    "cond3 = pipeline.apply_stage(raw, \"crop\", **crop_params) # applying a stage modifies the raw object directly"
   ],
   "id": "2dc9700181c39b48",
   "outputs": [],
   "execution_count": null
  },
  {
   "metadata": {},
   "cell_type": "markdown",
   "source": "### Filtering Stage\n",
   "id": "5e6ef30b81f242cd"
  },
  {
   "metadata": {},
   "cell_type": "code",
   "source": [
    "# Apply filter\n",
    "filter_params = {\n",
    "    'l_freq': 1,\n",
    "    'h_freq': 50,\n",
    "}\n",
    "\n",
    "filtered = pipeline.apply_stage(cond3, \"filter\", **filter_params)\n",
    "filtered.compute_psd(fmax=80).plot()\n"
   ],
   "id": "80a0effb9a239db3",
   "outputs": [],
   "execution_count": null
  },
  {
   "metadata": {},
   "cell_type": "markdown",
   "source": "### Bad Channel Detection\n",
   "id": "1ab127514895831b"
  },
  {
   "metadata": {},
   "cell_type": "code",
   "source": [
    "# Detect bad channels\n",
    "bad_ch_params = {\n",
    "    'segment_wise': False,\n",
    "    'verbose': True,\n",
    "    'interpolate': True,\n",
    "    'show_plot': True,\n",
    "    'plot_duration': 5\n",
    "}\n",
    "\n",
    "clean = pipeline.apply_stage(filtered, \"detect_bad_channels\", **bad_ch_params)"
   ],
   "id": "284de8bd226ab66c",
   "outputs": [],
   "execution_count": null
  },
  {
   "metadata": {},
   "cell_type": "markdown",
   "source": "### Rereference",
   "id": "171bf2601f741cd"
  },
  {
   "metadata": {},
   "cell_type": "code",
   "source": [
    "# Apply average reference\n",
    "reref_params = {\n",
    "    'method': 'average',\n",
    "    'exclude': ['EOG']  # List channels to exclude\n",
    "}\n",
    "\n",
    "rereferenced = pipeline.apply_stage(clean, \"rereference\", **reref_params)\n",
    "print(rereferenced.info)\n"
   ],
   "id": "3e4091b4ea471a8b",
   "outputs": [],
   "execution_count": null
  },
  {
   "metadata": {},
   "cell_type": "markdown",
   "source": "### ICA blink removal\n",
   "id": "5e4e9736fbe5343e"
  },
  {
   "metadata": {},
   "cell_type": "code",
   "source": [
    "# Apply ica blink correction\n",
    "ica_params = {\n",
    "    'method': 'ica',\n",
    "    'plot_components': True,\n",
    "    'enable_manual': True\n",
    "}\n",
    "\n",
    "corrected = pipeline.apply_stage(rereferenced, \"blink_artifact\", **ica_params)\n",
    "print(corrected.info)"
   ],
   "id": "2119f261e13c91e",
   "outputs": [],
   "execution_count": null
  },
  {
   "metadata": {},
   "cell_type": "markdown",
   "source": "### Plot Data Before Epoching",
   "id": "c2e5d9906ba93cc6"
  },
  {
   "metadata": {},
   "cell_type": "code",
   "source": "corrected.plot()",
   "id": "7929bc41a205e602",
   "outputs": [],
   "execution_count": null
  },
  {
   "metadata": {},
   "cell_type": "markdown",
   "source": "### Epoching\n",
   "id": "813add82ab6f16f3"
  },
  {
   "metadata": {},
   "cell_type": "code",
   "source": [
    "# Define condition and epoch\n",
    "condition = {\n",
    "    \"name\": \"Inhibition\",\n",
    "    \"epoch_events\": {\"Onset\": 31, \"Offset\": 32},\n",
    "    \"condition_markers\": [30, 39],\n",
    "}\n",
    "\n",
    "epoch_params = {\n",
    "    'tmin': -1,\n",
    "    'tmax': 3,\n",
    "    'baseline': [-0.1, 0],\n",
    "    'reject': {'eeg': 250e-6},\n",
    "}\n",
    "\n",
    "\n",
    "# Set condition and epoch\n",
    "pipeline.processor.set_condition(condition)\n",
    "epochs = pipeline.apply_stage(corrected, \"epoch\", **epoch_params)\n",
    "epochs.plot_drop_log()"
   ],
   "id": "fe83de32496403d0",
   "outputs": [],
   "execution_count": null
  },
  {
   "metadata": {},
   "cell_type": "markdown",
   "source": "### Plot some diagnostic figures",
   "id": "fca0ce15a7e09d35"
  },
  {
   "metadata": {},
   "cell_type": "code",
   "source": [
    "stim = epochs['Onset']\n",
    "silence = epochs['Offset']\n",
    "\n",
    "stim.plot_image(picks='Fz')\n",
    "stim.plot_psd(fmax=30)\n",
    "stim.compute_psd().plot_topomap()\n",
    "silence.plot_image(picks='Fz')\n",
    "silence.plot_psd(fmax=30)\n",
    "silence.compute_psd().plot_topomap()"
   ],
   "id": "bb2b3969f346fd5d",
   "outputs": [],
   "execution_count": null
  },
  {
   "metadata": {},
   "cell_type": "markdown",
   "source": "## Average across Epochs",
   "id": "beb5b5f8fb02ec28"
  },
  {
   "metadata": {},
   "cell_type": "code",
   "source": [
    "stim_evoked = stim.average()\n",
    "sil_evoked = silence.average()\n",
    "\n",
    "import mne\n",
    "mne.viz.plot_compare_evokeds([stim_evoked, sil_evoked], picks='Fz')"
   ],
   "id": "a369a98d6474d67d",
   "outputs": [],
   "execution_count": null
  }
 ],
 "metadata": {
  "kernelspec": {
   "display_name": "Python 3",
   "language": "python",
   "name": "python3"
  },
  "language_info": {
   "codemirror_mode": {
    "name": "ipython",
    "version": 2
   },
   "file_extension": ".py",
   "mimetype": "text/x-python",
   "name": "python",
   "nbconvert_exporter": "python",
   "pygments_lexer": "ipython2",
   "version": "2.7.6"
  }
 },
 "nbformat": 4,
 "nbformat_minor": 5
}
